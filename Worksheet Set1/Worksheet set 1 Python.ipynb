{
 "cells": [
  {
   "cell_type": "markdown",
   "metadata": {},
   "source": [
    "# Worksheet Set 1 Python"
   ]
  },
  {
   "cell_type": "markdown",
   "metadata": {},
   "source": [
    "1. Which of the following operators is used to calculate remainder in a division?\n",
    "\n",
    "Answer : c) % "
   ]
  },
  {
   "cell_type": "markdown",
   "metadata": {},
   "source": [
    "2. In python 2//3 is equal to?\n",
    "\n",
    "Answer: B) 0"
   ]
  },
  {
   "cell_type": "markdown",
   "metadata": {},
   "source": [
    "3. In python, 6<<2 is equal to?\n",
    "\n",
    "Answer: c) 24"
   ]
  },
  {
   "cell_type": "markdown",
   "metadata": {},
   "source": [
    "4. In python, 6&2 will give which of the following as output?\n",
    "\n",
    "Answer: a) 2"
   ]
  },
  {
   "cell_type": "markdown",
   "metadata": {},
   "source": [
    "5. In python, 6|2 will give which of the following as output?\n",
    "\n",
    "Answer: D) 6"
   ]
  },
  {
   "cell_type": "markdown",
   "metadata": {},
   "source": [
    "6. What does the finally keyword denotes in python?\n",
    "\n",
    "Answer: C) the finally block will be executed no matter if the try block raises an error or not."
   ]
  },
  {
   "cell_type": "markdown",
   "metadata": {},
   "source": [
    "7. What does raise keyword is used for in python?\n",
    "\n",
    "Answer: A) It is used to raise an exception."
   ]
  },
  {
   "cell_type": "markdown",
   "metadata": {},
   "source": [
    "8. Which of the following is a common use case of yield keyword in python?\n",
    "\n",
    "Answer: C) in defining a generator"
   ]
  },
  {
   "cell_type": "markdown",
   "metadata": {},
   "source": [
    "9. Which of the following are the valid variable names?\n",
    "\n",
    "Answer: A) _abc\n",
    "        C) abc2"
   ]
  },
  {
   "cell_type": "markdown",
   "metadata": {},
   "source": [
    "10. Which of the following are the keywords in python?\n",
    "\n",
    "Answer: A) yield B) raise"
   ]
  },
  {
   "cell_type": "markdown",
   "metadata": {},
   "source": [
    "# Programming"
   ]
  },
  {
   "cell_type": "markdown",
   "metadata": {},
   "source": [
    "11. Write a python program to find the factorial of a number."
   ]
  },
  {
   "cell_type": "code",
   "execution_count": null,
   "metadata": {},
   "outputs": [],
   "source": [
    "def Factorial(number):\n",
    "    if number<0:\n",
    "        print(\"Factorial of the no is not possible\")\n",
    "    elif number==0:\n",
    "        print(\"Factorial of the no is 1\")\n",
    "    else:\n",
    "        for i in range(1,number):\n",
    "            number = number* i\n",
    "        print(\"The factorial of the no is:\")\n",
    "        return(number)\n",
    "\n",
    "#User Input\n",
    "no=int(input(\"Enter the number to find the factorial:\"))\n",
    "\n",
    "#Function call\n",
    "Factorial(no)\n",
    "  "
   ]
  },
  {
   "cell_type": "markdown",
   "metadata": {},
   "source": [
    "12. Write a python program to find whether a number is prime or composite."
   ]
  },
  {
   "cell_type": "code",
   "execution_count": null,
   "metadata": {},
   "outputs": [],
   "source": [
    "#user Input\n",
    "number=int(input(\"Enter the Number:\"))\n",
    "\n",
    "if number >1:\n",
    "    flag=False\n",
    "    for i in range(2,number):\n",
    "        if(number % i)==0:\n",
    "            flag=True\n",
    "            break\n",
    "\n",
    "if flag:\n",
    "    print(number,\"is a composite Number\")\n",
    "elif number==1:\n",
    "    print(number,\"is not prime or composite number\")\n",
    "else:\n",
    "    print(number,\"is a prime number\")\n",
    "\n",
    "        "
   ]
  },
  {
   "cell_type": "markdown",
   "metadata": {},
   "source": [
    "13. Write a python program to check whether a given string is palindrome or not."
   ]
  },
  {
   "cell_type": "code",
   "execution_count": null,
   "metadata": {},
   "outputs": [],
   "source": [
    "def Palindrome(str):\n",
    "    for i in range(0,int(len(str)/2)):\n",
    "        if str[i] !=str[len(str)-i-1]:\n",
    "            return False\n",
    "        return True\n",
    "\n",
    "#userinput\n",
    "String=input(\"Enter the string to check if palindrome or not:\")\n",
    "s=Palindrome(String)\n",
    "\n",
    "if (s):\n",
    "    print(\"String is palindrome\")\n",
    "else:\n",
    "    print(\"String is not a palindrome\")\n"
   ]
  },
  {
   "cell_type": "markdown",
   "metadata": {},
   "source": [
    "14. Write a Python program to get the third side of right-angled triangle from two given sides."
   ]
  },
  {
   "cell_type": "code",
   "execution_count": null,
   "metadata": {},
   "outputs": [],
   "source": [
    "def pythagoras(perpendicular,base,hypo):\n",
    "    if (hypo==0):\n",
    "        hypo=(((perpendicular**2)+(base**2))**0.5)\n",
    "        print(\"The hypotenuase of the triangle is:\")\n",
    "        return(hypo)\n",
    "    elif(perpendicular==0):\n",
    "        perpendicular=(((hypo**2)-(base**2))**0.5)\n",
    "        print(\"The perpendicular of the triangle is:\",perpendicular)\n",
    "        return(perpendicular)\n",
    "    elif(base==0):\n",
    "        base=(((hypo**2)-(perpendicular**2))**0.5)\n",
    "        print(\"The base of the triangle is:\",base)\n",
    "        return(base)\n",
    "    else:\n",
    "        print(\"Please provide the side as per given criterion\")\n",
    "    \n",
    "\n",
    "str=input(\"Please provide the side of the triangle you want to find (hypo/perpendicular/base)\")\n",
    "if(str=='hypo'):\n",
    "    perpendicular=int(input(\"Enter the opposite or perpendicular of triangle\"))\n",
    "    base=int(input(\"Enter the base of triangle\"))\n",
    "    print(pythagoras(perpendicular,base,0))\n",
    "    \n",
    "elif(str=='perpendicular'):\n",
    "    hypo=int(input(\"Enter the hypotenuase of triangle:\"))\n",
    "    base=int(input(\"Enter the base of triangle:\"))\n",
    "    pythagoras(0,base,hypo)\n",
    "    \n",
    "elif(str=='base'):\n",
    "    perpendicular=int(input(\"Enter the opposite or perpendicular of triangle:\"));\n",
    "    hypo=int(input(\"Enter the hypotenuase of triangle:\"))\n",
    "    pythagoras(perpendicular,0,hypo)\n",
    "else:\n",
    "    print(\"Please provide the appropriate input\")"
   ]
  },
  {
   "cell_type": "markdown",
   "metadata": {},
   "source": [
    "15. Write a python program to print the frequency of each of the characters present in a given string."
   ]
  },
  {
   "cell_type": "code",
   "execution_count": null,
   "metadata": {},
   "outputs": [],
   "source": [
    "def count(user_str):\n",
    "    final_str= {}\n",
    "    for i in user_str:\n",
    "        if i in final_str:\n",
    "            final_str[i] +=1\n",
    "        else:\n",
    "            final_str[i]= 1\n",
    "    print(\"Count of all the characters in\",user_str,\"is:\",final_str)\n",
    "\n",
    "user_str=input(\"Enter the string: \")\n",
    "#print(user_str)\n",
    "count(user_str)"
   ]
  }
 ],
 "metadata": {
  "kernelspec": {
   "display_name": "Python 3",
   "language": "python",
   "name": "python3"
  },
  "language_info": {
   "codemirror_mode": {
    "name": "ipython",
    "version": 3
   },
   "file_extension": ".py",
   "mimetype": "text/x-python",
   "name": "python",
   "nbconvert_exporter": "python",
   "pygments_lexer": "ipython3",
   "version": "3.8.5"
  }
 },
 "nbformat": 4,
 "nbformat_minor": 4
}
